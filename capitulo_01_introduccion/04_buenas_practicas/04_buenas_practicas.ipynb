{
 "cells": [
  {
   "cell_type": "markdown",
   "metadata": {},
   "source": [
    "<img src=\"images/usm.png\" width=\"480\" height=\"240\" align=\"left\"/>"
   ]
  },
  {
   "cell_type": "markdown",
   "metadata": {},
   "source": [
    "# MAT281 - 2° Semestre 2019\n",
    "## Aplicaciones de la Matemática en la Ingeniería"
   ]
  },
  {
   "cell_type": "markdown",
   "metadata": {},
   "source": [
    "## Objetivos de la clase\n",
    "\n",
    "* Aprender buenas prácticas de codificación.\n",
    "* Aprender test unitario con pytest."
   ]
  },
  {
   "cell_type": "markdown",
   "metadata": {},
   "source": [
    "## Contenidos\n",
    "\n",
    "* [Estandarización de código](#c1)\n",
    "* [Test unitario](#c2)"
   ]
  },
  {
   "cell_type": "markdown",
   "metadata": {},
   "source": [
    "<a id='c1'></a>\n",
    "## I.- Estandarización de código\n",
    "Además de una correcta y ordenada estructura general que deben tener los programa, es conveniente mantener ciertas **buenas prácticas de codificación y el estilo de codificación recomendado**. Estas normas no son obligatorias, como lo es la propia sintaxis del lenguaje, pero conviene seguir las recomendaciones de los desarrolladores de Python para facilitar la lectura del programa y ayudar a encontrar posibles errores.\n",
    "\n",
    "<img src=\"images/zen_python.png\" width=\"360\" height=\"240\" align=\"center\"/>\n"
   ]
  },
  {
   "cell_type": "markdown",
   "metadata": {},
   "source": [
    "### Zen de python\n",
    "\n",
    "El de python, creado por [Tim Peters](https://en.wikipedia.org/wiki/Tim_Peters_(software_engineer)) hace referencia a los \"mandamientos\" que todo usuario de python debe seguir en la programación de sus códigos."
   ]
  },
  {
   "cell_type": "code",
   "execution_count": 1,
   "metadata": {},
   "outputs": [
    {
     "name": "stdout",
     "output_type": "stream",
     "text": [
      "The Zen of Python, by Tim Peters\n",
      "\n",
      "Beautiful is better than ugly.\n",
      "Explicit is better than implicit.\n",
      "Simple is better than complex.\n",
      "Complex is better than complicated.\n",
      "Flat is better than nested.\n",
      "Sparse is better than dense.\n",
      "Readability counts.\n",
      "Special cases aren't special enough to break the rules.\n",
      "Although practicality beats purity.\n",
      "Errors should never pass silently.\n",
      "Unless explicitly silenced.\n",
      "In the face of ambiguity, refuse the temptation to guess.\n",
      "There should be one-- and preferably only one --obvious way to do it.\n",
      "Although that way may not be obvious at first unless you're Dutch.\n",
      "Now is better than never.\n",
      "Although never is often better than *right* now.\n",
      "If the implementation is hard to explain, it's a bad idea.\n",
      "If the implementation is easy to explain, it may be a good idea.\n",
      "Namespaces are one honking great idea -- let's do more of those!\n"
     ]
    }
   ],
   "source": [
    "import this"
   ]
  },
  {
   "cell_type": "markdown",
   "metadata": {},
   "source": [
    "### PEP8\n",
    "\n",
    "Basado en el zen de python, se define una guiá de estilo única descrita íntegramente en el **Python Enhancement Proposal número 8**, abreviado como **PEP 8**. EL **PEP 8** dicta las normas que deben seguir la codificación de un código en python.\n",
    "\n",
    "EL **PEP 8** y el **PEP 257** (convenciones para la documentación del código) fueron adaptados del originario texto de convenciones para el código Python, por [Guido van Rossum](https://es.wikipedia.org/wiki/Guido_van_Rossum), con algunas adiciones de la guía de [Barry Warsaw](https://wiki.ubuntu.com/BarryWarsaw).\n",
    "\n",
    "Para ver más detalle consulte la siguiente páguina: [PEP 8](https://www.python.org/dev/peps/pep-0008/)."
   ]
  },
  {
   "cell_type": "markdown",
   "metadata": {},
   "source": [
    "\n",
    "### Puntos mas importantes del PEP8\n",
    "\n",
    "<img src=\"images/pep08.webp\" width=\"480\" height=\"240\" align=\"center\"/>\n",
    "\n",
    "\n",
    "#### Basicos\n",
    "* Siempre preferir espacios en ves de tabs.\n",
    "* Usar 4 espacios en la indentación.\n",
    "* Las lineas deben tener menos de 80 caracteres.\n",
    "* Las lineas que pasen de esta longitud deben ser divididas en dos lineas, y la linea resultante de la división debe estar indentada.\n",
    "* En una fila, las funciones y las clases deben estar separadas por dos lineas en blanco.\n",
    "* No colocar espacios alrededor de indices de lista, llamadas de funciones o argumentos.\n",
    "\n",
    "#### Nombres\n",
    "* Las funciones deben estar declaradas en minúscula y las palabras separadas por guiones bajos `def funcion_cool()`.\n",
    "* Los metodos privados de una clase deben comenzar con doble guion bajo `def __private_method()`.\n",
    "* Los métodos protegidos de una clase deben comenzar con guion bajo `def _protected_method()`.\n",
    "* Las clases y excepciones deben ser capitalizadas por palabra `class SuperClass`.\n",
    "* Constantes del module deben estar en mayusculas separadas por guiones bajos `NUMERO_MAXIMO = 10`.\n",
    "* Los métodos de instancia de una clase deben usar el parametro `self` como primer parámetro.\n",
    "* Los métodos de clase deben usar `cls` como primer parámetro, para referirse a la misma clase.\n",
    "\n",
    "#### Expresiones\n",
    "* Usar negación en linea (`if a is not b`) en vez de negar una expresion positiva (`if not a is b`).\n",
    "* No validar valores vacíos usando len if `(len(lista) == 0)`, usar if not lista.\n",
    "* Siempre coloca los imports al inicio del archivo.\n",
    "* Siempre importa funciones y clases usando from my_module import `MyClass` en ves de importar el modulo completo `import my_module`.\n",
    "* Si aun debes usar imports relativos, usa la sintaxis `from . import my_module`\n",
    "* Las importaciones siempre deben estar en el orden:\n",
    "    * Módulos de la librería standar.\n",
    "    * Módulos externos.\n",
    "    * Módulos del proyecto.\n",
    "* Y cada sección debe estar en orden alfabético."
   ]
  },
  {
   "cell_type": "markdown",
   "metadata": {},
   "source": [
    "### Buenas prácticas durante el curso\n",
    "\n",
    "<img src=\"https://encrypted-tbn0.gstatic.com/images?q=tbn:ANd9GcSTBGhzXXDgeLJ9dUgfE7Vhn2R-96gOzWLEZtpsEnogfyLlymR4\" width=\"240\" height=\"240\" align=\"center\"/>"
   ]
  },
  {
   "cell_type": "markdown",
   "metadata": {},
   "source": [
    "### a) Ser explicito con las variables\n",
    "\n",
    "En lo posible, tanto el nombre de variables y funciones debe ser lo más explcíta posible\n",
    "\n",
    "### Incorrecto"
   ]
  },
  {
   "cell_type": "code",
   "execution_count": 2,
   "metadata": {},
   "outputs": [
    {
     "name": "stdout",
     "output_type": "stream",
     "text": [
      "El volumen es 35.0\n"
     ]
    }
   ],
   "source": [
    "a = 10.  # altura\n",
    "b = 3.5  # base\n",
    "\n",
    "def funcion_01(a,b):\n",
    "    return a*b\n",
    "print(\"El volumen es %.1f\" % (funcion_01(a,b)))"
   ]
  },
  {
   "cell_type": "markdown",
   "metadata": {},
   "source": [
    "### Correcto"
   ]
  },
  {
   "cell_type": "code",
   "execution_count": 3,
   "metadata": {},
   "outputs": [
    {
     "name": "stdout",
     "output_type": "stream",
     "text": [
      "El volumen es 35.0\n"
     ]
    }
   ],
   "source": [
    "# variables\n",
    "altura = 10.\n",
    "base = 3.5\n",
    "\n",
    "# funcion\n",
    "def volumen(base, \n",
    "            altura):\n",
    "    \n",
    "    return base*altura\n",
    "\n",
    "# calcular funcion para los parametros dados\n",
    "volumen_calculado = volumen(base, \n",
    "                            altura)\n",
    "\n",
    "# imprimir por pantall resultado\n",
    "print(\"El volumen es %.1f\" % (volumen_calculado))"
   ]
  },
  {
   "cell_type": "markdown",
   "metadata": {},
   "source": [
    "### b) Identación funciones\n",
    "\n",
    "Debe haber un orden en la identación de las funciones, para distinguir correctamente los parámetros que influyen.\n",
    "\n",
    "### Incorrecto"
   ]
  },
  {
   "cell_type": "code",
   "execution_count": 4,
   "metadata": {},
   "outputs": [],
   "source": [
    "def funcion_01(x1,x2,x3,x4):\n",
    "    print(x1,x2,x3,x4)\n",
    "    \n",
    "def funcion_02(\n",
    "    x1,x2,x3,x4):\n",
    "    print(x1,x2,x3,x4)"
   ]
  },
  {
   "cell_type": "markdown",
   "metadata": {},
   "source": [
    "### Correcto"
   ]
  },
  {
   "cell_type": "code",
   "execution_count": 5,
   "metadata": {},
   "outputs": [],
   "source": [
    "def funcion_01(x1,x2,\n",
    "               x3,x4):\n",
    "    \n",
    "    print(x1,x2,x3,x4)\n",
    "    \n",
    "def funcion_02(\n",
    "        x1,x2,\n",
    "        x3,x4):\n",
    "    \n",
    "    print(x1,x2,x3,x4)"
   ]
  },
  {
   "cell_type": "markdown",
   "metadata": {},
   "source": [
    "### c) Identación paréntesis / corchete / llave\n",
    "Al igual que los parámetros de las funciones, la identación en objetos iterables es necesario que tnega un orden.\n",
    "\n",
    "### Incorrecto"
   ]
  },
  {
   "cell_type": "code",
   "execution_count": 6,
   "metadata": {},
   "outputs": [],
   "source": [
    "lista_01 = [1, 2, 3,4, 5, 6,7, 8, 9,]"
   ]
  },
  {
   "cell_type": "markdown",
   "metadata": {},
   "source": [
    "### Correcto"
   ]
  },
  {
   "cell_type": "code",
   "execution_count": 7,
   "metadata": {},
   "outputs": [],
   "source": [
    "lista_01 = [\n",
    "    1, 2, 3,\n",
    "    4, 5, 6,\n",
    "    7, 8, 9, \n",
    "]"
   ]
  },
  {
   "cell_type": "markdown",
   "metadata": {},
   "source": [
    "### Documentación de código\n",
    "\n",
    "Casi tan importante como la escritura de código, es su correcta documentación, una parte fundamental de cualquier programa que a menudo se infravalora o simplemente se ignora. Aparte de los comentarios entre el código explicando cómo funciona, el elemento básico de documentación de Python es el **Docstring** o cadena de documentación, que ya hemos visto. \n",
    "\n",
    "Simplemente es una cadena de texto con triple comillas que se coloca justo después de la definición de función o clase que sirve de documentación a ese elemento.\n",
    "\n",
    "Todos los objetos documentables (módulos, clases, métodos y funciones) cuentan con un atributo `__doc__` el cual contiene su respectivo comentario de documentación. "
   ]
  },
  {
   "cell_type": "markdown",
   "metadata": {},
   "source": [
    "### Ejemplo básico"
   ]
  },
  {
   "cell_type": "code",
   "execution_count": 8,
   "metadata": {},
   "outputs": [
    {
     "data": {
      "text/plain": [
       "'Calcula el promedio de dos números.'"
      ]
     },
     "execution_count": 8,
     "metadata": {},
     "output_type": "execute_result"
    }
   ],
   "source": [
    "# crear funcion promedio\n",
    "def promedio(a, b):\n",
    "    'Calcula el promedio de dos números.'\n",
    "    return (a + b) / 2\n",
    "\n",
    "# comentarios de la funcion promedio\n",
    "promedio.__doc__"
   ]
  },
  {
   "cell_type": "markdown",
   "metadata": {},
   "source": [
    "### Ejemplo más elaborado"
   ]
  },
  {
   "cell_type": "code",
   "execution_count": 9,
   "metadata": {},
   "outputs": [
    {
     "data": {
      "text/plain": [
       "'Resuelve una ecuación cuadrática.\\n\\n    Devuelve en una tupla las dos raíces que resuelven la\\n    ecuación cuadrática:\\n    \\n        ax^2 + bx + c = 0.\\n\\n    Utiliza la fórmula general (también conocida\\n    coloquialmente como el \"chicharronero\").\\n\\n    Parámetros:\\n    a -- coeficiente cuadrático (debe ser distinto de 0)\\n    b -- coeficiente lineal\\n    c -- término independiente\\n\\n    Excepciones:\\n    ValueError -- Si (a == 0)\\n    \\n    '"
      ]
     },
     "execution_count": 9,
     "metadata": {},
     "output_type": "execute_result"
    }
   ],
   "source": [
    "from cmath import sqrt\n",
    "\n",
    "# crear funcion formula cuadratica\n",
    "\n",
    "def formula_cuadratica(a, b, c):\n",
    "    \"\"\"Resuelve una ecuación cuadrática.\n",
    "\n",
    "    Devuelve en una tupla las dos raíces que resuelven la\n",
    "    ecuación cuadrática:\n",
    "    \n",
    "        ax^2 + bx + c = 0.\n",
    "\n",
    "    Utiliza la fórmula general (también conocida\n",
    "    coloquialmente como el \"chicharronero\").\n",
    "\n",
    "    Parámetros:\n",
    "    a -- coeficiente cuadrático (debe ser distinto de 0)\n",
    "    b -- coeficiente lineal\n",
    "    c -- término independiente\n",
    "\n",
    "    Excepciones:\n",
    "    ValueError -- Si (a == 0)\n",
    "    \n",
    "    \"\"\"\n",
    "    if a == 0:\n",
    "        raise ValueError(\n",
    "            'Coeficiente cuadrático no debe ser 0.')\n",
    "    \n",
    "    discriminante = b ** 2 - 4 * a * c\n",
    "    x1 = (-b + sqrt(discriminante)) / (2 * a)\n",
    "    x2 = (-b - sqrt(discriminante)) / (2 * a)\n",
    "    return (x1, x2)\n",
    "\n",
    "\n",
    "# comentarios de la funcion formula cuadratica\n",
    "formula_cuadratica.__doc__"
   ]
  },
  {
   "cell_type": "markdown",
   "metadata": {},
   "source": [
    "### Tipos de Docstring\n",
    "\n",
    "Existen varias formas de documentar tus funciones, las principales encontradas en la literatura son:\n",
    "* [Google docstrings](https://github.com/google/styleguide/blob/gh-pages/pyguide.md#38-comments-and-docstrings):\tGoogle’s recommended form of documentation.\n",
    "* [reStructured Text](http://docutils.sourceforge.net/rst.html):\tOfficial Python documentation standard; Not beginner friendly but feature rich.\n",
    "* [NumPy/SciPy docstrings](https://numpydoc.readthedocs.io/en/latest/format.html):\tNumPy’s combination of reStructured and Google Docstrings.\n",
    "* [Epytext](http://epydoc.sourceforge.net/epytext.html)\tA Python adaptation of Epydoc; Great for Java developer."
   ]
  },
  {
   "cell_type": "markdown",
   "metadata": {},
   "source": [
    "<a id='c2'></a>\n",
    "## II.-  Test Driven Development (TDD)\n",
    "\n",
    "<img src=\"images/tdd_mensaje.jpeg\" width=\"480\" height=\"240\" align=\"center\"/>\n",
    "\n",
    "### ¿Qué es el Test Driven Development?"
   ]
  },
  {
   "cell_type": "markdown",
   "metadata": {},
   "source": [
    "El   **Test-Driven Development** o **TDD** es una técnica de diseño e implementación de software incluida dentro de la metodología ágil.\n",
    "\n",
    "El**TDD** es una técnica para diseñar software que se centra en tres pilares fundamentales:\n",
    "\n",
    "* La implementación de las funciones justas que el cliente necesita y no más.\n",
    "* La minimización del número de defectos que llegan al software en fase de producción.\n",
    "* La producción de software modular, altamente reutilizable y preparado para el cambio."
   ]
  },
  {
   "cell_type": "markdown",
   "metadata": {},
   "source": [
    "### ¿ En qué consiste el  *Test Driven Development*?\n",
    "En palabras simples, el desarrollo guiado por pruebas pone las pruebas en el corazón de nuestro trabajo. En su forma más simple consiste en un proceso iterativo de 3 fases:\n",
    "\n",
    "\n",
    "<img src=\"images/tdd_imagen_01.png\" width=\"480\" height=\"240\" align=\"center\"/>\n",
    "\n",
    "- **Red**: Escribe un test que ponga a prueba una nueva funcionalidad y asegurate de que el test falla\n",
    "- **Green**: Escribe el código mínimo necesario para pasar ese test\n",
    "- **Refactor**: Refactoriza de ser necesario"
   ]
  },
  {
   "cell_type": "markdown",
   "metadata": {},
   "source": [
    "\n",
    "### ¿Porqué debería usarlo?\n",
    "\n",
    "Existen varias razones por las que uno debería usar TDD. Entre ellas podemos encontrar:\n",
    "- Formular bien nuestros pensamientos vía la escritura de un test significativo antes de ponernos a solucionar el problema nos ayuda a clarificar los límites del problema y cómo podemos resolverlo. Con el tiempo esto ayuda a obtener un diseño modular y reusable del código.\n",
    "- Escribir tests influencia la forma en que escribimos código, haciéndolo más legible a otros y a tu futuro yo.\n",
    "- Verifica que el código funciona de la manera que se espera, y lo hace de forma automática.\n",
    "- Te permite realizar *refactoring* con la certeza de que no has roto nada.\n",
    "- Los tests escritos sirven como documentación para otros desarrolladores.\n",
    "- Es una práctica requerida en metodologías de desarrollo de software *agile*."
   ]
  },
  {
   "cell_type": "markdown",
   "metadata": {},
   "source": [
    "### Evidencia empírica\n",
    "El 2008, Nagappan, Maximilien, Bhat y Williams publicaron el paper llamado *[Realizing Quality Improvement Through Test Driven Development - Results and Experiences of Four Industrial Teams](/.attachments/Realizing%20Quality%20Improvement%20Through%20Test%20Driven%20Development%20-%20Results%20and%20Experiences%20of%20Four%20Industrial%20Teams%20(nagappan_tdd)-8514b668-2c79-4567-a57d-f682b44dd3d9.pdf)*, en donde estudiaron 4 equipos de trabajo (3 de Microsoft y 1 de IBM), con proyectos que variaban entre las 6000 lineas de código hasta las 155k. Estas son parte de sus conclusiones:\n",
    "\n",
    "> Todos los equipos demostraron una baja considerable en la densidad de defectos: 40% para el equipo de IBM, y entre 60-90% para los equipos de Microsoft.\n",
    "\n",
    "Como todo en la vida, nada es gratis:\n",
    "\n",
    "> Incremento del tiempo de desarrollo varía entre un 15% a 35%.\n",
    "\n",
    "Sin embargo\n",
    "\n",
    "> Desde un punto de vista de eficacia este incremento en tiempo de desarrollo se compensa por los costos de mantención reducidos debido al incremento en calidad.\n",
    "\n",
    "Además es importante escribir tests junto con la implementación en pequeñas iteraciones. [George y Williams](https://collaboration.csc.ncsu.edu/laurie/Papers/TDDpaperv8.pdf) encontraron que escribir tests después de que la aplicación está mas o menos lista hace que se testee menos porque los desarrolladores piensan en menos casos, y además la aplicación se vuelve menos testeable. Otra conclusión interesante del estudio de George y Williams es que un 79% de los desarrolladores experimentaron que el uso de TDD conlleva a un diseño más simple.\n",
    "\n",
    "### ¿Puedo usar TDD siempre?\n",
    "No, pero puedes usarlo casi siempre. El análisis exploratorio es un caso en que el uso de TDD no hace sentido. Una vez que tenemos definido el problema a solucionar y un mejor entendimiento del problema podemos aterrizar nuestras ideas a la implementación vía testing."
   ]
  },
  {
   "cell_type": "markdown",
   "metadata": {},
   "source": [
    "### Librerías disponibles en python\n",
    "\n",
    "- [unittest](https://docs.python.org/3/library/unittest.html): Módulo dentro de la librería estándar de Python. Permite realizar tests unitarios, de integración y end to end.\n",
    "- [doctest](https://docs.python.org/3/library/doctest.html): Permite realizar test de la documentación del código, cuando éste trae ejemplos de uso (Como en la documentacion de [Numpy](http://www.numpy.org/) o [Pandas](https://pandas.pydata.org/)).\n",
    "- [pytest](https://docs.pytest.org/en/latest/): Librería de testing ampliamente usada en proyectos nuevos de Python.\n",
    "- [nose](https://nose.readthedocs.io/en/latest/): Librería que extiende unittest para hacerlo más simple.\n",
    "- [coverage](https://coverage.readthedocs.io/en/v4.5.x/): Herramienta para medir la [cobertura de código](https://es.wikipedia.org/wiki/Cobertura_de_c%C3%B3digo) de los proyectos.\n",
    "- [tox](https://tox.readthedocs.io/en/latest/): Herramienta para facilitar el test de una librería en diferentes versiones e intérpretes de Python.\n",
    "- [hypothesis](https://hypothesis.readthedocs.io/en/latest/): Librería para escribir tests vía reglas que ayuda a encontrar casos borde.\n",
    "- [behave](https://behave.readthedocs.io/en/latest/): Permite utilizar [Behavior Driven Development](https://es.wikipedia.org/wiki/Desarrollo_guiado_por_comportamiento), un proceso de desarrollo derivado del TDD."
   ]
  },
  {
   "cell_type": "markdown",
   "metadata": {},
   "source": [
    "### TDD con pytest\n",
    "\n",
    "<img src=\"images/pytest.png\" width=\"360\" height=\"240\" align=\"center\"/>\n"
   ]
  },
  {
   "cell_type": "markdown",
   "metadata": {},
   "source": [
    "La librería **pytest** es un librería de python que facilita la escritura de pruebas pequeñas, pero se escala para admitir pruebas funcionales complejas para aplicaciones y bibliotecas.\n",
    "\n",
    "Pytest tiene algunas otras características excelentes:\n",
    "\n",
    "* Soporte para la declaración de aserción incorporada en lugar de usar métodos especiales self.assert * ()\n",
    "* Soporte para el filtrado de casos de prueba.\n",
    "* Capacidad para volver a ejecutar desde la última prueba fallida\n",
    "* Un ecosistema de cientos de complementos para ampliar la funcionalidad."
   ]
  },
  {
   "cell_type": "markdown",
   "metadata": {},
   "source": [
    "### Pytest en jupyter notebook\n",
    "\n",
    "**Observación.-** Para ejecutar los siguientes comenados es necesario tener instalada  las librerías de `pytest` y `ipytest`.\n",
    "\n",
    "### Cómo aplicar pytest corectamente\n",
    "\n",
    "Lo primero es crear un instancia para realizar los test sobre el arcrchivo **.ipynb**."
   ]
  },
  {
   "cell_type": "code",
   "execution_count": 3,
   "metadata": {},
   "outputs": [
    {
     "data": {
      "text/plain": [
       "<ConfigContext rewrite_asserts=True, magics=True, tempfile_fallback=False, clean='[Tt]est*', addopts=(), raise_on_error=False, run_in_thread=False>"
      ]
     },
     "execution_count": 3,
     "metadata": {},
     "output_type": "execute_result"
    }
   ],
   "source": [
    "import pytest\n",
    "import ipytest\n",
    "\n",
    "# set the filename\n",
    "__file__ = '04_buenas_practicas.ipynb'\n",
    "\n",
    "# enable pytest's assertions and ipytest's magics\n",
    "ipytest.config(rewrite_asserts=True, magics=True)"
   ]
  },
  {
   "cell_type": "markdown",
   "metadata": {},
   "source": [
    "### Ejemplo básico\n",
    "Veamos como incorporar un test básico en pytest. EL ejemplo consistirá en crear una función que calcule el área del circulo.\n",
    "\n",
    "#### Paso 1: crear el test\n",
    "\n",
    "Lo primero es crear el test, en donde le pedimos que nos de el área del circulo cuando el radio $r$ es igual a 1.\n",
    "\n",
    "Para eso uno ocupa la aserción `assert` que sirve para ver si dos variables son idénticas. Por supuesto, existen varias aserciones, por ejemplo:\n",
    "\n",
    "| Método                  | Equivalente a |\n",
    "|-------------------------|------------------|\n",
    "| .assertEqual(a, b)    | a == b           |\n",
    "| .assertTrue(x)          | bool(x) is True  |\n",
    "| .assertFalse(x)         | bool(x) is False |\n",
    "| .assertIs(a, b)         | a is b           |\n",
    "| .assertIsNone(x)        | x is None        |\n",
    "| .assertIn(a, b)         | a in b           |\n",
    "| .assertIsInstance(a, b) | isinstance(a, b) |"
   ]
  },
  {
   "cell_type": "code",
   "execution_count": 4,
   "metadata": {},
   "outputs": [
    {
     "name": "stdout",
     "output_type": "stream",
     "text": [
      ".                                                                                                                  [100%]\n"
     ]
    }
   ],
   "source": [
    "# crear test\n",
    "def test_area_circulo():\n",
    "    assert area_circulo(1) == pi\n",
    "    \n",
    "# correr test\n",
    "ipytest.run('-qq')"
   ]
  },
  {
   "cell_type": "markdown",
   "metadata": {},
   "source": [
    "Como es de esperar el test falla, ahora pasemos al paso 2 que es crear la función."
   ]
  },
  {
   "cell_type": "markdown",
   "metadata": {},
   "source": [
    "#### Paso 2: crear la función a testear"
   ]
  },
  {
   "cell_type": "code",
   "execution_count": 5,
   "metadata": {},
   "outputs": [],
   "source": [
    "# crear funcion\n",
    "\n",
    "from math import pi\n",
    "\n",
    "def area_circulo(r):\n",
    "    \n",
    "    return pi*r**2"
   ]
  },
  {
   "cell_type": "code",
   "execution_count": 6,
   "metadata": {},
   "outputs": [
    {
     "name": "stdout",
     "output_type": "stream",
     "text": [
      ".                                                                                                                  [100%]\n"
     ]
    }
   ],
   "source": [
    "# correr el test\n",
    "ipytest.run('-qq')"
   ]
  },
  {
   "cell_type": "markdown",
   "metadata": {},
   "source": [
    "El test paso la prueba!. Ahora veamos más ejemplos:"
   ]
  },
  {
   "cell_type": "markdown",
   "metadata": {},
   "source": [
    "### i) Correr varios test al mismo tiempo\n",
    "\n",
    "Realicemos una test para todas las operaciones básicas (sumar, restar, multiplicar y dividir). "
   ]
  },
  {
   "cell_type": "code",
   "execution_count": 7,
   "metadata": {},
   "outputs": [
    {
     "name": "stdout",
     "output_type": "stream",
     "text": [
      "..F.F                                                                                                              [100%]\n",
      "======================================================== FAILURES ========================================================\n",
      "_____________________________________________________ test_subtract ______________________________________________________\n",
      "\n",
      "    def test_subtract():\n",
      ">       assert subtract(4, 5) == -1\n",
      "E       assert 0 == -1\n",
      "E        +  where 0 = subtract(4, 5)\n",
      "\n",
      "<ipython-input-7-1ded26cbb3eb>:21: AssertionError\n",
      "______________________________________________________ test_divide _______________________________________________________\n",
      "\n",
      "    def test_divide():\n",
      ">       assert divide(4, 5) == 0.8\n",
      "E       assert -0.19999999999999996 == 0.8\n",
      "E        +  where -0.19999999999999996 = divide(4, 5)\n",
      "\n",
      "<ipython-input-7-1ded26cbb3eb>:27: AssertionError\n"
     ]
    }
   ],
   "source": [
    "# funciones a testear\n",
    "def add(x, y):\n",
    "    return x + y\n",
    "\n",
    "def subtract(x, y):\n",
    "    return x - y +1\n",
    "\n",
    "def multiplicate(x, y):\n",
    "    return x*y\n",
    "\n",
    "\n",
    "def divide(x, y):\n",
    "    return x/y-1\n",
    "\n",
    "\n",
    "# test\n",
    "def test_add():\n",
    "    assert add(4, 5) == 9\n",
    "    \n",
    "def test_subtract():\n",
    "    assert subtract(4, 5) == -1\n",
    "    \n",
    "def test_multiplicate():\n",
    "    assert multiplicate(4, 5) == 20\n",
    "    \n",
    "def test_divide():\n",
    "    assert divide(4, 5) == 0.8\n",
    "    \n",
    "# correr test\n",
    "ipytest.run('-qq')"
   ]
  },
  {
   "cell_type": "markdown",
   "metadata": {},
   "source": [
    "Suce que cuando "
   ]
  },
  {
   "cell_type": "markdown",
   "metadata": {},
   "source": [
    "### ii) Varias asserciones al mismo tiempo\n",
    "\n",
    "Con el comando `%%run_pytest[clean] -qq`  se ejecuta solo el test de la celda en la cuala estemos trabajando.\n"
   ]
  },
  {
   "cell_type": "code",
   "execution_count": 40,
   "metadata": {},
   "outputs": [
    {
     "name": "stdout",
     "output_type": "stream",
     "text": [
      ".                                                                                                                  [100%]\n"
     ]
    }
   ],
   "source": [
    "%%run_pytest[clean] -qq\n",
    "def area_circulo_mod(r):\n",
    "    if r>=0:\n",
    "        result = pi*r**2\n",
    "        return result\n",
    "    else:\n",
    "        raise ValueError('Valor negativo')\n",
    "    \n",
    "def test_area_circulo():\n",
    "    assert area_circulo_mod(0) == 0\n",
    "    assert area_circulo_mod(1) == pi\n",
    "    assert area_circulo_mod(2) == 4*pi"
   ]
  },
  {
   "cell_type": "markdown",
   "metadata": {},
   "source": [
    "iii) Funciones *Fixtures*\n",
    "\n",
    "Los *fixtures*  son funciones que se ejecutarán antes de cada función de prueba a la que se aplique. Los accesorios se utilizan para alimentar algunos datos a las pruebas, como conexiones de bases de datos, URL para probar y algún tipo de datos de entrada. \n",
    "\n",
    "Veamos un ejemplo:"
   ]
  },
  {
   "cell_type": "code",
   "execution_count": 42,
   "metadata": {},
   "outputs": [
    {
     "name": "stdout",
     "output_type": "stream",
     "text": [
      ".F                                                                                                                 [100%]\n",
      "======================================================== FAILURES ========================================================\n",
      "__________________________________________________ test_divisible_by_6 ___________________________________________________\n",
      "\n",
      "input_value = 39\n",
      "\n",
      "    def test_divisible_by_6(input_value):\n",
      ">       assert input_value % 6 == 0\n",
      "E       assert (39 % 6) == 0\n",
      "\n",
      "<ipython-input-42-a74ac012e540>:10: AssertionError\n"
     ]
    }
   ],
   "source": [
    "%%run_pytest[clean] -qq\n",
    "\n",
    "@pytest.fixture\n",
    "def input_value():\n",
    "    input = 39\n",
    "    return input\n",
    "\n",
    "def test_divisible_by_3(input_value):\n",
    "    assert input_value % 3 == 0\n",
    "\n",
    "def test_divisible_by_6(input_value):\n",
    "    assert input_value % 6 == 0"
   ]
  },
  {
   "cell_type": "markdown",
   "metadata": {},
   "source": [
    "#### iv) Asserciones con *pandas*\n",
    "\n",
    "Cuando se quiere realizar test unitarios sobre objetos *pandas.series* o *pandas.DataFrame*, es necesario ocupar aserciones especiales de *pandas*."
   ]
  },
  {
   "cell_type": "code",
   "execution_count": 51,
   "metadata": {},
   "outputs": [
    {
     "name": "stdout",
     "output_type": "stream",
     "text": [
      "F                                                                                                                  [100%]\n",
      "======================================================== FAILURES ========================================================\n",
      "______________________________________________________ test_pandas _______________________________________________________\n",
      "\n",
      "dataset_01 =    a  b\n",
      "0  1  3\n",
      "1  2  4, dataset_02 =    a    b\n",
      "0  1  3.0\n",
      "1  2  4.0\n",
      "\n",
      "    def test_pandas(dataset_01,dataset_02):\n",
      ">       assert_frame_equal(dataset_01, dataset_02)\n",
      "\n",
      "<ipython-input-51-470b2930b323>:18: \n",
      "_ _ _ _ _ _ _ _ _ _ _ _ _ _ _ _ _ _ _ _ _ _ _ _ _ _ _ _ _ _ _ _ _ _ _ _ _ _ _ _ _ _ _ _ _ _ _ _ _ _ _ _ _ _ _ _ _ _ _ _ _ \n",
      "/home/falfaro/.local/share/virtualenvs/messi-l92U7xSO/lib/python3.6/site-packages/pandas/util/testing.py:1348: in assert_frame_equal\n",
      "    obj='DataFrame.iloc[:, {idx}]'.format(idx=i))\n",
      "/home/falfaro/.local/share/virtualenvs/messi-l92U7xSO/lib/python3.6/site-packages/pandas/util/testing.py:1193: in assert_series_equal\n",
      "    assert_attr_equal('dtype', left, right)\n",
      "/home/falfaro/.local/share/virtualenvs/messi-l92U7xSO/lib/python3.6/site-packages/pandas/util/testing.py:924: in assert_attr_equal\n",
      "    raise_assert_detail(obj, msg, left_attr, right_attr)\n",
      "_ _ _ _ _ _ _ _ _ _ _ _ _ _ _ _ _ _ _ _ _ _ _ _ _ _ _ _ _ _ _ _ _ _ _ _ _ _ _ _ _ _ _ _ _ _ _ _ _ _ _ _ _ _ _ _ _ _ _ _ _ \n",
      "\n",
      "obj = 'Attributes', message = 'Attribute \"dtype\" are different', left = dtype('int64'), right = dtype('float64')\n",
      "diff = None\n",
      "\n",
      "    def raise_assert_detail(obj, message, left, right, diff=None):\n",
      "        if isinstance(left, np.ndarray):\n",
      "            left = pprint_thing(left)\n",
      "        elif is_categorical_dtype(left):\n",
      "            left = repr(left)\n",
      "    \n",
      "        if PY2 and isinstance(left, string_types):\n",
      "            # left needs to be printable in native text type in python2\n",
      "            left = left.encode('utf-8')\n",
      "    \n",
      "        if isinstance(right, np.ndarray):\n",
      "            right = pprint_thing(right)\n",
      "        elif is_categorical_dtype(right):\n",
      "            right = repr(right)\n",
      "    \n",
      "        if PY2 and isinstance(right, string_types):\n",
      "            # right needs to be printable in native text type in python2\n",
      "            right = right.encode('utf-8')\n",
      "    \n",
      "        msg = \"\"\"{obj} are different\n",
      "    \n",
      "    {message}\n",
      "    [left]:  {left}\n",
      "    [right]: {right}\"\"\".format(obj=obj, message=message, left=left, right=right)\n",
      "    \n",
      "        if diff is not None:\n",
      "            msg += \"\\n[diff]: {diff}\".format(diff=diff)\n",
      "    \n",
      ">       raise AssertionError(msg)\n",
      "E       AssertionError: Attributes are different\n",
      "E       \n",
      "E       Attribute \"dtype\" are different\n",
      "E       [left]:  int64\n",
      "E       [right]: float64\n",
      "\n",
      "/home/falfaro/.local/share/virtualenvs/messi-l92U7xSO/lib/python3.6/site-packages/pandas/util/testing.py:1018: AssertionError\n"
     ]
    }
   ],
   "source": [
    "%%run_pytest[clean] -qq\n",
    "\n",
    "from pandas.util.testing import assert_frame_equal # aserciones de pandas\n",
    "import pandas as pd\n",
    "\n",
    "# crear input\n",
    "@pytest.fixture(name='dataset_01')\n",
    "def dataframe_01():\n",
    "    df1 = pd.DataFrame({'a': [1, 2], 'b': [3, 4]})\n",
    "    return df1\n",
    "\n",
    "# crear ouput\n",
    "@pytest.fixture(name='dataset_02')\n",
    "def dataframe_02():\n",
    "    df2 = pd.DataFrame({'a': [1, 2], 'b': [3.0, 4.0]})\n",
    "    return df2\n",
    "\n",
    "# juntar informacion input y output\n",
    "def test_pandas(dataset_01,dataset_02):\n",
    "    assert_frame_equal(dataset_01, dataset_02) "
   ]
  },
  {
   "cell_type": "markdown",
   "metadata": {},
   "source": [
    "## Referencia\n",
    "\n",
    "1. [Realizing Quality Improvement Through Test Driven Development - Results and Experiences of Four Industrial Teams](/.attachments/Realizing%20Quality%20Improvement%20Through%20Test%20Driven%20Development%20-%20Results%20and%20Experiences%20of%20Four%20Industrial%20Teams%20(nagappan_tdd)-8514b668-2c79-4567-a57d-f682b44dd3d9.pdf)*, es una buena lectura, sobretodo los consejos que dan en las conclusiones.\n",
    "2. [Google Testing Blog](https://testing.googleblog.com/): Poseen varios artículos sobre cómo abordar problemas tipo, buenas prácticas de diseño para generar código testeable, entre otros. En particular destaca la serie *Testing on the Toilet*.\n",
    "3. [Cualquier artículo de Martin Fowler sobre testing](https://martinfowler.com/tags/testing.html), empezando por [éste](https://martinfowler.com/articles/practical-test-pyramid.html)\n",
    "4. [Design Patterns](https://sourcemaking.com/design_patterns): Los patrones de diseño de software tienen en consideración que el código sea *testeable*."
   ]
  }
 ],
 "metadata": {
  "kernelspec": {
   "display_name": "Python 3",
   "language": "python",
   "name": "python3"
  },
  "language_info": {
   "codemirror_mode": {
    "name": "ipython",
    "version": 3
   },
   "file_extension": ".py",
   "mimetype": "text/x-python",
   "name": "python",
   "nbconvert_exporter": "python",
   "pygments_lexer": "ipython3",
   "version": "3.6.8"
  }
 },
 "nbformat": 4,
 "nbformat_minor": 4
}
